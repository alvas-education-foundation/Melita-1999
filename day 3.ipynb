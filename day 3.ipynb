{
  "nbformat": 4,
  "nbformat_minor": 0,
  "metadata": {
    "colab": {
      "name": "Untitled",
      "provenance": [],
      "authorship_tag": "ABX9TyP/pt39tqgJ2UNCZc5TQW+B",
      "include_colab_link": true
    },
    "kernelspec": {
      "name": "python3",
      "display_name": "Python 3"
    }
  },
  "cells": [
    {
      "cell_type": "markdown",
      "metadata": {
        "id": "view-in-github",
        "colab_type": "text"
      },
      "source": [
        "<a href=\"https://colab.research.google.com/github/alvas-education-foundation/Melita-1999/blob/master/day%203.ipynb\" target=\"_parent\"><img src=\"https://colab.research.google.com/assets/colab-badge.svg\" alt=\"Open In Colab\"/></a>"
      ]
    },
    {
      "cell_type": "code",
      "metadata": {
        "id": "GJkhOV4xmIRK",
        "colab_type": "code",
        "colab": {
          "base_uri": "https://localhost:8080/",
          "height": 119
        },
        "outputId": "519288df-5aed-4533-cba2-17a8504edc6d"
      },
      "source": [
        "import pandas as pd\n",
        "#ds = pd.Series([2, 4, 6, 8..... 10]) \n",
        "print(ds)"
      ],
      "execution_count": 4,
      "outputs": [
        {
          "output_type": "stream",
          "text": [
            "0     2\n",
            "1     4\n",
            "2     6\n",
            "3     8\n",
            "4    10\n",
            "dtype: int64\n"
          ],
          "name": "stdout"
        }
      ]
    },
    {
      "cell_type": "code",
      "metadata": {
        "id": "-nYV0NwgmSir",
        "colab_type": "code",
        "colab": {
          "base_uri": "https://localhost:8080/",
          "height": 204
        },
        "outputId": "73cd66b1-6903-4294-a39c-ca4d236943b6"
      },
      "source": [
        "import pandas as pd\n",
        "ds = pd.Series([2, 4, 6, 8, 10])\n",
        "print(\"Pandas Series and type\")\n",
        "print(ds)\n",
        "print(type(ds))\n",
        "print(\"Convert Pandas Series to Python list\")\n",
        "print(ds.tolist())\n",
        "print(type(ds.tolist()))"
      ],
      "execution_count": 3,
      "outputs": [
        {
          "output_type": "stream",
          "text": [
            "Pandas Series and type\n",
            "0     2\n",
            "1     4\n",
            "2     6\n",
            "3     8\n",
            "4    10\n",
            "dtype: int64\n",
            "<class 'pandas.core.series.Series'>\n",
            "Convert Pandas Series to Python list\n",
            "[2, 4, 6, 8, 10]\n",
            "<class 'list'>\n"
          ],
          "name": "stdout"
        }
      ]
    },
    {
      "cell_type": "code",
      "metadata": {
        "id": "l7qmauMxmbdR",
        "colab_type": "code",
        "colab": {
          "base_uri": "https://localhost:8080/",
          "height": 493
        },
        "outputId": "882f0589-6647-49ba-b945-b951f9359bda"
      },
      "source": [
        "import pandas as pd\n",
        "ds1 = pd.Series([2, 4, 6, 8, 10])\n",
        "ds2 = pd.Series([1, 3, 5, 7, 9])\n",
        "ds = ds1 + ds2\n",
        "print(\"Add two Series:\")\n",
        "print(ds)\n",
        "print(\"Subtract two Series:\")\n",
        "ds = ds1 - ds2\n",
        "print(ds)\n",
        "print(\"Multiply two Series:\")\n",
        "ds = ds1 * ds2\n",
        "print(ds)\n",
        "print(\"Divide Series1 by Series2:\")\n",
        "ds = ds1 / ds2\n",
        "print(ds)"
      ],
      "execution_count": 5,
      "outputs": [
        {
          "output_type": "stream",
          "text": [
            "Add two Series:\n",
            "0     3\n",
            "1     7\n",
            "2    11\n",
            "3    15\n",
            "4    19\n",
            "dtype: int64\n",
            "Subtract two Series:\n",
            "0    1\n",
            "1    1\n",
            "2    1\n",
            "3    1\n",
            "4    1\n",
            "dtype: int64\n",
            "Multiply two Series:\n",
            "0     2\n",
            "1    12\n",
            "2    30\n",
            "3    56\n",
            "4    90\n",
            "dtype: int64\n",
            "Divide Series1 by Series2:\n",
            "0    2.000000\n",
            "1    1.333333\n",
            "2    1.200000\n",
            "3    1.142857\n",
            "4    1.111111\n",
            "dtype: float64\n"
          ],
          "name": "stdout"
        }
      ]
    },
    {
      "cell_type": "code",
      "metadata": {
        "id": "mE1kksV9mn7Q",
        "colab_type": "code",
        "colab": {
          "base_uri": "https://localhost:8080/",
          "height": 629
        },
        "outputId": "cec6f5d0-583e-43a0-f03d-c7cfbe75315c"
      },
      "source": [
        "import pandas as pd\n",
        "ds1 = pd.Series([2, 4, 6, 8, 10])\n",
        "ds2 = pd.Series([1, 3, 5, 7, 10])\n",
        "print(\"Series1:\")\n",
        "print(ds1)\n",
        "print(\"Series2:\")\n",
        "print(ds2)\n",
        "print(\"Compare the elements of the said Series:\")\n",
        "print(\"Equals:\")\n",
        "print(ds1 == ds2)\n",
        "print(\"Greater than:\")\n",
        "print(ds1 > ds2)\n",
        "print(\"Less than:\")\n",
        "print(ds1 < ds2)"
      ],
      "execution_count": 6,
      "outputs": [
        {
          "output_type": "stream",
          "text": [
            "Series1:\n",
            "0     2\n",
            "1     4\n",
            "2     6\n",
            "3     8\n",
            "4    10\n",
            "dtype: int64\n",
            "Series2:\n",
            "0     1\n",
            "1     3\n",
            "2     5\n",
            "3     7\n",
            "4    10\n",
            "dtype: int64\n",
            "Compare the elements of the said Series:\n",
            "Equals:\n",
            "0    False\n",
            "1    False\n",
            "2    False\n",
            "3    False\n",
            "4     True\n",
            "dtype: bool\n",
            "Greater than:\n",
            "0     True\n",
            "1     True\n",
            "2     True\n",
            "3     True\n",
            "4    False\n",
            "dtype: bool\n",
            "Less than:\n",
            "0    False\n",
            "1    False\n",
            "2    False\n",
            "3    False\n",
            "4    False\n",
            "dtype: bool\n"
          ],
          "name": "stdout"
        }
      ]
    },
    {
      "cell_type": "code",
      "metadata": {
        "id": "KAP90SFmmtLW",
        "colab_type": "code",
        "colab": {
          "base_uri": "https://localhost:8080/",
          "height": 170
        },
        "outputId": "523c6c6a-c333-45b3-f5f3-86324a7d7491"
      },
      "source": [
        "import pandas as pd\n",
        "d1 = {'a': 100, 'b': 200, 'c':300, 'd':400, 'e':800}\n",
        "print(\"Original dictionary:\")\n",
        "print(d1)\n",
        "new_series = pd.Series(d1)\n",
        "print(\"Converted series:\")\n",
        "print(new_series)"
      ],
      "execution_count": 7,
      "outputs": [
        {
          "output_type": "stream",
          "text": [
            "Original dictionary:\n",
            "{'a': 100, 'b': 200, 'c': 300, 'd': 400, 'e': 800}\n",
            "Converted series:\n",
            "a    100\n",
            "b    200\n",
            "c    300\n",
            "d    400\n",
            "e    800\n",
            "dtype: int64\n"
          ],
          "name": "stdout"
        }
      ]
    },
    {
      "cell_type": "code",
      "metadata": {
        "id": "PR9wVMy7mxm5",
        "colab_type": "code",
        "colab": {
          "base_uri": "https://localhost:8080/",
          "height": 170
        },
        "outputId": "6a56192e-0e17-42cd-abd6-b46d74326bc7"
      },
      "source": [
        "import numpy as np\n",
        "import pandas as pd\n",
        "np_array = np.array([10, 20, 30, 40, 50])\n",
        "print(\"NumPy array:\")\n",
        "print(np_array)\n",
        "new_series = pd.Series(np_array)\n",
        "print(\"Converted Pandas series:\")\n",
        "print(new_series)"
      ],
      "execution_count": 8,
      "outputs": [
        {
          "output_type": "stream",
          "text": [
            "NumPy array:\n",
            "[10 20 30 40 50]\n",
            "Converted Pandas series:\n",
            "0    10\n",
            "1    20\n",
            "2    30\n",
            "3    40\n",
            "4    50\n",
            "dtype: int64\n"
          ],
          "name": "stdout"
        }
      ]
    },
    {
      "cell_type": "code",
      "metadata": {
        "id": "kpcMa0k9m3AC",
        "colab_type": "code",
        "colab": {
          "base_uri": "https://localhost:8080/",
          "height": 255
        },
        "outputId": "54127828-5dd7-4751-cf65-b9dc7bccda47"
      },
      "source": [
        "import pandas as pd\n",
        "s1 = pd.Series(['100', '200', 'python', '300.12', '400a'])\n",
        "print(\"Original Data Series:\")\n",
        "print(s1)\n",
        "print(\"Change the said data type to numeric:\")\n",
        "s2 = pd.to_numeric(s1, errors='coerce')\n",
        "print(s2)"
      ],
      "execution_count": 9,
      "outputs": [
        {
          "output_type": "stream",
          "text": [
            "Original Data Series:\n",
            "0       100\n",
            "1       200\n",
            "2    python\n",
            "3    300.12\n",
            "4      400a\n",
            "dtype: object\n",
            "Change the said data type to numeric:\n",
            "0    100.00\n",
            "1    200.00\n",
            "2       NaN\n",
            "3    300.12\n",
            "4       NaN\n",
            "dtype: float64\n"
          ],
          "name": "stdout"
        }
      ]
    },
    {
      "cell_type": "code",
      "metadata": {
        "id": "LZdMsRrPm6lq",
        "colab_type": "code",
        "colab": {
          "base_uri": "https://localhost:8080/",
          "height": 170
        },
        "outputId": "03383d54-92c8-4f06-bdd9-645162a837a5"
      },
      "source": [
        "\n",
        "import numpy as np\n",
        "s1 = pd.Series(['100', '200', 'python', '300.12', '400'])\n",
        "print(\"Original Data Series:\")\n",
        "print(s1)\n",
        "print(\"Series to an array\")\n",
        "a = np.array(s1.values.tolist())\n",
        "print (a)"
      ],
      "execution_count": 10,
      "outputs": [
        {
          "output_type": "stream",
          "text": [
            "Original Data Series:\n",
            "0       100\n",
            "1       200\n",
            "2    python\n",
            "3    300.12\n",
            "4       400\n",
            "dtype: object\n",
            "Series to an array\n",
            "['100' '200' 'python' '300.12' '400']\n"
          ],
          "name": "stdout"
        }
      ]
    },
    {
      "cell_type": "code",
      "metadata": {
        "id": "bNHii2Y2m9uW",
        "colab_type": "code",
        "colab": {
          "base_uri": "https://localhost:8080/",
          "height": 238
        },
        "outputId": "381acf75-de04-4851-dcd2-a0d65f2cbf75"
      },
      "source": [
        "\n",
        "import pandas as pd\n",
        "s = pd.Series(['200','100','python', '300.12', '400'])\n",
        "print(\"Original Data Series:\")\n",
        "print(s)\n",
        "new_s = pd.Series(s).sort_values()\n",
        "print(new_s)"
      ],
      "execution_count": 11,
      "outputs": [
        {
          "output_type": "stream",
          "text": [
            "Original Data Series:\n",
            "0       200\n",
            "1       100\n",
            "2    python\n",
            "3    300.12\n",
            "4       400\n",
            "dtype: object\n",
            "1       100\n",
            "0       200\n",
            "3    300.12\n",
            "4       400\n",
            "2    python\n",
            "dtype: object\n"
          ],
          "name": "stdout"
        }
      ]
    },
    {
      "cell_type": "code",
      "metadata": {
        "id": "VNWZz5chnAAq",
        "colab_type": "code",
        "colab": {
          "base_uri": "https://localhost:8080/",
          "height": 306
        },
        "outputId": "3b548dec-44be-4778-880f-13c6b17cf7de"
      },
      "source": [
        "import pandas as pd\n",
        "s = pd.Series(['100', '200', 'python', '300.12', '400'])\n",
        "print(\"Original Data Series:\")\n",
        "print(s)\n",
        "print(\"\\nData Series after adding some data:\")\n",
        "new_s = s.append(pd.Series(['500', 'php']))\n",
        "print(new_s)"
      ],
      "execution_count": 12,
      "outputs": [
        {
          "output_type": "stream",
          "text": [
            "Original Data Series:\n",
            "0       100\n",
            "1       200\n",
            "2    python\n",
            "3    300.12\n",
            "4       400\n",
            "dtype: object\n",
            "\n",
            "Data Series after adding some data:\n",
            "0       100\n",
            "1       200\n",
            "2    python\n",
            "3    300.12\n",
            "4       400\n",
            "0       500\n",
            "1       php\n",
            "dtype: object\n"
          ],
          "name": "stdout"
        }
      ]
    },
    {
      "cell_type": "code",
      "metadata": {
        "id": "9zlLzPAVnDeV",
        "colab_type": "code",
        "colab": {
          "base_uri": "https://localhost:8080/",
          "height": 357
        },
        "outputId": "e33f8329-d092-4298-cc8b-1bd7b97adce4"
      },
      "source": [
        "\n",
        "import pandas as pd\n",
        "s = pd.Series([0, 1,2,3,4,5,6,7,8,9,10])\n",
        "print(\"Original Data Series:\")\n",
        "print(s)\n",
        "print(\"\\nSubset of the above Data Series:\")\n",
        "n = 6\n",
        "new_s = s[s >n]\n",
        "print(new_s)"
      ],
      "execution_count": 13,
      "outputs": [
        {
          "output_type": "stream",
          "text": [
            "Original Data Series:\n",
            "0      0\n",
            "1      1\n",
            "2      2\n",
            "3      3\n",
            "4      4\n",
            "5      5\n",
            "6      6\n",
            "7      7\n",
            "8      8\n",
            "9      9\n",
            "10    10\n",
            "dtype: int64\n",
            "\n",
            "Subset of the above Data Series:\n",
            "7      7\n",
            "8      8\n",
            "9      9\n",
            "10    10\n",
            "dtype: int64\n"
          ],
          "name": "stdout"
        }
      ]
    },
    {
      "cell_type": "code",
      "metadata": {
        "id": "5gw_pjaGnIVL",
        "colab_type": "code",
        "colab": {
          "base_uri": "https://localhost:8080/",
          "height": 255
        },
        "outputId": "a8d57939-333d-4fd2-f984-aad903caff94"
      },
      "source": [
        "\n",
        "import pandas as pd\n",
        "s = pd.Series(data = [1,2,3,4,5], index = ['A', 'B', 'C','D','E'])\n",
        "print(\"Original Data Series:\")\n",
        "print(s)\n",
        "s = s.reindex(index = ['B','A','C','D','E'])\n",
        "print(\"Data Series after changing the order of index:\")\n",
        "print(s)"
      ],
      "execution_count": 14,
      "outputs": [
        {
          "output_type": "stream",
          "text": [
            "Original Data Series:\n",
            "A    1\n",
            "B    2\n",
            "C    3\n",
            "D    4\n",
            "E    5\n",
            "dtype: int64\n",
            "Data Series after changing the order of index:\n",
            "B    2\n",
            "A    1\n",
            "C    3\n",
            "D    4\n",
            "E    5\n",
            "dtype: int64\n"
          ],
          "name": "stdout"
        }
      ]
    },
    {
      "cell_type": "code",
      "metadata": {
        "id": "O7_bMwNHnM9s",
        "colab_type": "code",
        "colab": {
          "base_uri": "https://localhost:8080/",
          "height": 306
        },
        "outputId": "6df5fdce-943c-4793-c6c7-bd1f707b4c85"
      },
      "source": [
        "\n",
        "import pandas as pd\n",
        "s = pd.Series(data = [1,2,3,4,5,6,7,8,9,5,3])\n",
        "print(\"Original Data Series:\")\n",
        "print(s)\n",
        "print(\"Mean of the said Data Series:\")\n",
        "print(s.mean())\n",
        "print(\"Standard deviation of the said Data Series:\")\n",
        "print(s.std())"
      ],
      "execution_count": 15,
      "outputs": [
        {
          "output_type": "stream",
          "text": [
            "Original Data Series:\n",
            "0     1\n",
            "1     2\n",
            "2     3\n",
            "3     4\n",
            "4     5\n",
            "5     6\n",
            "6     7\n",
            "7     8\n",
            "8     9\n",
            "9     5\n",
            "10    3\n",
            "dtype: int64\n",
            "Mean of the said Data Series:\n",
            "4.818181818181818\n",
            "Standard deviation of the said Data Series:\n",
            "2.522624895547565\n"
          ],
          "name": "stdout"
        }
      ]
    },
    {
      "cell_type": "code",
      "metadata": {
        "id": "gG85lAMznQrA",
        "colab_type": "code",
        "colab": {
          "base_uri": "https://localhost:8080/",
          "height": 119
        },
        "outputId": "cd360d81-0e32-421f-b0ed-09f4362b0ba8"
      },
      "source": [
        "import pandas as pd\n",
        "df = pd.DataFrame({'X':[78,85,96,80,86], 'Y':[84,94,89,83,86],'Z':[86,97,96,72,83]});\n",
        "print(df)"
      ],
      "execution_count": 16,
      "outputs": [
        {
          "output_type": "stream",
          "text": [
            "    X   Y   Z\n",
            "0  78  84  86\n",
            "1  85  94  97\n",
            "2  96  89  96\n",
            "3  80  83  72\n",
            "4  86  86  83\n"
          ],
          "name": "stdout"
        }
      ]
    },
    {
      "cell_type": "code",
      "metadata": {
        "id": "Xr0NS6F0nUyU",
        "colab_type": "code",
        "colab": {
          "base_uri": "https://localhost:8080/",
          "height": 34
        },
        "outputId": "d8815527-5bac-439d-d41e-a77e3543f1e2"
      },
      "source": [
        "\n",
        "import numpy as np\n",
        "x = np.random.normal(size=5)\n",
        "print(x)"
      ],
      "execution_count": 17,
      "outputs": [
        {
          "output_type": "stream",
          "text": [
            "[-0.09141208 -1.09593684  0.42875348 -0.59898584 -0.49295931]\n"
          ],
          "name": "stdout"
        }
      ]
    },
    {
      "cell_type": "code",
      "metadata": {
        "id": "kZG9WPqSnXp_",
        "colab_type": "code",
        "colab": {
          "base_uri": "https://localhost:8080/",
          "height": 34
        },
        "outputId": "de63a495-3449-42b4-bbef-7d05bb83d9f6"
      },
      "source": [
        "\n",
        "import numpy as np\n",
        "x = np.random.randint(low=10, high=30, size=6)\n",
        "print(x)"
      ],
      "execution_count": 18,
      "outputs": [
        {
          "output_type": "stream",
          "text": [
            "[12 15 24 20 20 15]\n"
          ],
          "name": "stdout"
        }
      ]
    },
    {
      "cell_type": "code",
      "metadata": {
        "id": "0NxmcbL5na4l",
        "colab_type": "code",
        "colab": {
          "base_uri": "https://localhost:8080/",
          "height": 204
        },
        "outputId": "3e870a4d-1822-4105-90c5-bb75f3b03366"
      },
      "source": [
        "import numpy as np\n",
        "x = np.random.random((3,3,3))\n",
        "print(x)"
      ],
      "execution_count": 19,
      "outputs": [
        {
          "output_type": "stream",
          "text": [
            "[[[0.44530491 0.81477876 0.20545399]\n",
            "  [0.55384979 0.5602544  0.24483614]\n",
            "  [0.82273194 0.77190902 0.60260287]]\n",
            "\n",
            " [[0.42888905 0.36371875 0.0710939 ]\n",
            "  [0.91558575 0.7193304  0.67825426]\n",
            "  [0.10157207 0.56549209 0.76931671]]\n",
            "\n",
            " [[0.93500133 0.69021104 0.43003408]\n",
            "  [0.98579416 0.1569058  0.9280209 ]\n",
            "  [0.47850396 0.64325766 0.44577216]]]\n"
          ],
          "name": "stdout"
        }
      ]
    },
    {
      "cell_type": "code",
      "metadata": {
        "id": "zR2gSR3onemM",
        "colab_type": "code",
        "colab": {
          "base_uri": "https://localhost:8080/",
          "height": 153
        },
        "outputId": "966cc988-5671-4fa3-e368-c1014a0dc2de"
      },
      "source": [
        "import numpy as np\n",
        "x = np.random.random((5,5))\n",
        "print(\"Original Array:\")\n",
        "print(x) \n",
        "xmin, xmax = x.min(), x.max()\n",
        "print(\"Minimum and Maximum Values:\")\n",
        "print(xmin, xmax)"
      ],
      "execution_count": 20,
      "outputs": [
        {
          "output_type": "stream",
          "text": [
            "Original Array:\n",
            "[[0.02869333 0.70195375 0.71549519 0.48719845 0.02520259]\n",
            " [0.29267157 0.64616539 0.26310926 0.27137639 0.2627647 ]\n",
            " [0.90852046 0.8075682  0.38228071 0.2667346  0.38312303]\n",
            " [0.31617868 0.32574075 0.76774433 0.97220323 0.57648025]\n",
            " [0.81955712 0.62712223 0.3711536  0.33944316 0.57940232]]\n",
            "Minimum and Maximum Values:\n",
            "0.025202591554464804 0.9722032253882639\n"
          ],
          "name": "stdout"
        }
      ]
    },
    {
      "cell_type": "code",
      "metadata": {
        "id": "dy8Ps4UKniVO",
        "colab_type": "code",
        "colab": {
          "base_uri": "https://localhost:8080/",
          "height": 493
        },
        "outputId": "01d84fba-b92c-4c7b-abf2-c977859d02c1"
      },
      "source": [
        "\n",
        "import numpy as np\n",
        "x = np.random.rand(10, 4)\n",
        "print(\"Original array: \")\n",
        "print(x)\n",
        "y= x[:5, :]\n",
        "print(\"First 5 rows of the above array:\")\n",
        "y= x[:5, :]\n",
        "print(y)\n",
        "z= x[:, :4]\n",
        "print(\"First 3 columns of the above array:\")\n",
        "print(z)"
      ],
      "execution_count": 21,
      "outputs": [
        {
          "output_type": "stream",
          "text": [
            "Original array: \n",
            "[[0.69016719 0.47611639 0.74504112 0.7892878 ]\n",
            " [0.52215051 0.45852619 0.25895597 0.61589232]\n",
            " [0.23616848 0.83065319 0.65794509 0.09932342]\n",
            " [0.28331129 0.69937156 0.98095304 0.35473118]\n",
            " [0.87836616 0.12633536 0.19101872 0.92077762]\n",
            " [0.16344749 0.06933572 0.87794774 0.36694597]\n",
            " [0.37082417 0.73378611 0.0590414  0.64448889]\n",
            " [0.34844595 0.06039653 0.53883044 0.24001908]\n",
            " [0.19152933 0.42049395 0.05767305 0.06479663]\n",
            " [0.95191177 0.65647194 0.977451   0.46565916]]\n",
            "First 5 rows of the above array:\n",
            "[[0.69016719 0.47611639 0.74504112 0.7892878 ]\n",
            " [0.52215051 0.45852619 0.25895597 0.61589232]\n",
            " [0.23616848 0.83065319 0.65794509 0.09932342]\n",
            " [0.28331129 0.69937156 0.98095304 0.35473118]\n",
            " [0.87836616 0.12633536 0.19101872 0.92077762]]\n",
            "First 3 columns of the above array:\n",
            "[[0.69016719 0.47611639 0.74504112 0.7892878 ]\n",
            " [0.52215051 0.45852619 0.25895597 0.61589232]\n",
            " [0.23616848 0.83065319 0.65794509 0.09932342]\n",
            " [0.28331129 0.69937156 0.98095304 0.35473118]\n",
            " [0.87836616 0.12633536 0.19101872 0.92077762]\n",
            " [0.16344749 0.06933572 0.87794774 0.36694597]\n",
            " [0.37082417 0.73378611 0.0590414  0.64448889]\n",
            " [0.34844595 0.06039653 0.53883044 0.24001908]\n",
            " [0.19152933 0.42049395 0.05767305 0.06479663]\n",
            " [0.95191177 0.65647194 0.977451   0.46565916]]\n"
          ],
          "name": "stdout"
        }
      ]
    },
    {
      "cell_type": "code",
      "metadata": {
        "id": "z97SrDPdnmNO",
        "colab_type": "code",
        "colab": {
          "base_uri": "https://localhost:8080/",
          "height": 68
        },
        "outputId": "da152711-89f8-4be6-ec95-e96e4be3a324"
      },
      "source": [
        "import numpy as np\n",
        "x = np.arange(10)\n",
        "np.random.shuffle(x)\n",
        "print(x)\n",
        "print(\"Same result using permutation():\")\n",
        "print(np.random.permutation(10))"
      ],
      "execution_count": 22,
      "outputs": [
        {
          "output_type": "stream",
          "text": [
            "[6 1 9 5 0 2 3 8 7 4]\n",
            "Same result using permutation():\n",
            "[5 3 0 4 7 2 1 9 6 8]\n"
          ],
          "name": "stdout"
        }
      ]
    },
    {
      "cell_type": "code",
      "metadata": {
        "id": "mUCjzXX-npub",
        "colab_type": "code",
        "colab": {
          "base_uri": "https://localhost:8080/",
          "height": 34
        },
        "outputId": "d538e9e6-d5de-4a84-e921-e25b91e17a6c"
      },
      "source": [
        "import numpy as np\n",
        "x=np.arange(10)\n",
        "np.random.randint(10)\n",
        "print (x)"
      ],
      "execution_count": 23,
      "outputs": [
        {
          "output_type": "stream",
          "text": [
            "[0 1 2 3 4 5 6 7 8 9]\n"
          ],
          "name": "stdout"
        }
      ]
    },
    {
      "cell_type": "code",
      "metadata": {
        "id": "rvOojyPmntB1",
        "colab_type": "code",
        "colab": {
          "base_uri": "https://localhost:8080/",
          "height": 51
        },
        "outputId": "94f9945e-ba20-47ef-cc10-02872e8bffe5"
      },
      "source": [
        "\n",
        "import numpy as np\n",
        "x=np.arange(10)\n",
        "np.random.shuffle(x)\n",
        "print(x)\n",
        "x.sort()\n",
        "print(x)"
      ],
      "execution_count": 24,
      "outputs": [
        {
          "output_type": "stream",
          "text": [
            "[3 7 6 2 1 9 5 4 8 0]\n",
            "[0 1 2 3 4 5 6 7 8 9]\n"
          ],
          "name": "stdout"
        }
      ]
    },
    {
      "cell_type": "code",
      "metadata": {
        "id": "m8kOks1Dnwvb",
        "colab_type": "code",
        "colab": {}
      },
      "source": [
        ""
      ],
      "execution_count": null,
      "outputs": []
    }
  ]
}